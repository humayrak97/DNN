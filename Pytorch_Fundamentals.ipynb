{
  "nbformat": 4,
  "nbformat_minor": 0,
  "metadata": {
    "colab": {
      "provenance": [],
      "collapsed_sections": []
    },
    "kernelspec": {
      "name": "python3",
      "display_name": "Python 3"
    },
    "language_info": {
      "name": "python"
    }
  },
  "cells": [
    {
      "cell_type": "markdown",
      "source": [
        "##Importing libraries"
      ],
      "metadata": {
        "id": "p9kBLITyATUa"
      }
    },
    {
      "cell_type": "code",
      "execution_count": 1,
      "metadata": {
        "id": "Q0tCxc0UAQfS",
        "colab": {
          "base_uri": "https://localhost:8080/"
        },
        "outputId": "8857589c-d8a2-41e7-8093-bc9af4e83bc5"
      },
      "outputs": [
        {
          "output_type": "stream",
          "name": "stdout",
          "text": [
            "1.12.1+cu113\n"
          ]
        }
      ],
      "source": [
        "import torch\n",
        "import pandas as pd\n",
        "import numpy as np\n",
        "import matplotlib.pyplot as plt\n",
        "print(torch.__version__)"
      ]
    },
    {
      "cell_type": "markdown",
      "source": [
        "###Creating tensors"
      ],
      "metadata": {
        "id": "Q5dJNMYTT7CN"
      }
    },
    {
      "cell_type": "code",
      "source": [
        "#Pytorch tensors are created using torch.Tensor()\n",
        "scalar = torch.tensor(7)\n",
        "scalar\n",
        "#scalar.ndim"
      ],
      "metadata": {
        "colab": {
          "base_uri": "https://localhost:8080/"
        },
        "id": "m3qg0BZDTO-y",
        "outputId": "956516c3-4656-452c-9f77-214fb0d7e0d2"
      },
      "execution_count": 2,
      "outputs": [
        {
          "output_type": "execute_result",
          "data": {
            "text/plain": [
              "tensor(7)"
            ]
          },
          "metadata": {},
          "execution_count": 2
        }
      ]
    },
    {
      "cell_type": "code",
      "source": [
        "#Getting tensor back as Puthon int \n",
        "scalar.item()"
      ],
      "metadata": {
        "colab": {
          "base_uri": "https://localhost:8080/"
        },
        "id": "tGYs0xHeTo-E",
        "outputId": "0a869451-14fe-4efa-82fd-473bb22b2e28"
      },
      "execution_count": 3,
      "outputs": [
        {
          "output_type": "execute_result",
          "data": {
            "text/plain": [
              "7"
            ]
          },
          "metadata": {},
          "execution_count": 3
        }
      ]
    },
    {
      "cell_type": "code",
      "source": [
        "#Vectors\n",
        "vector = torch.tensor([8,8])\n",
        "vector"
      ],
      "metadata": {
        "colab": {
          "base_uri": "https://localhost:8080/"
        },
        "id": "IU5RLosFaw_V",
        "outputId": "7a417e1e-399c-46ef-edaf-291e5a120ae9"
      },
      "execution_count": 4,
      "outputs": [
        {
          "output_type": "execute_result",
          "data": {
            "text/plain": [
              "tensor([8, 8])"
            ]
          },
          "metadata": {},
          "execution_count": 4
        }
      ]
    },
    {
      "cell_type": "code",
      "source": [
        "vector.ndim"
      ],
      "metadata": {
        "colab": {
          "base_uri": "https://localhost:8080/"
        },
        "id": "_084YtAtbD8i",
        "outputId": "5e6dec88-0cfa-496b-947f-169956dd6760"
      },
      "execution_count": 5,
      "outputs": [
        {
          "output_type": "execute_result",
          "data": {
            "text/plain": [
              "1"
            ]
          },
          "metadata": {},
          "execution_count": 5
        }
      ]
    },
    {
      "cell_type": "code",
      "source": [
        "vector.shape"
      ],
      "metadata": {
        "colab": {
          "base_uri": "https://localhost:8080/"
        },
        "id": "_6fUDFFZbGQG",
        "outputId": "3a3008db-c7e6-49b0-edc5-a7b1640fdf37"
      },
      "execution_count": 6,
      "outputs": [
        {
          "output_type": "execute_result",
          "data": {
            "text/plain": [
              "torch.Size([2])"
            ]
          },
          "metadata": {},
          "execution_count": 6
        }
      ]
    },
    {
      "cell_type": "code",
      "source": [
        "#Matrix\n",
        "MATRIX = torch.tensor([[7,8],[9,10]])\n",
        "MATRIX"
      ],
      "metadata": {
        "colab": {
          "base_uri": "https://localhost:8080/"
        },
        "id": "M70qIgbkbIaq",
        "outputId": "1f2ebf24-8234-4663-f21c-7f24c7955491"
      },
      "execution_count": 7,
      "outputs": [
        {
          "output_type": "execute_result",
          "data": {
            "text/plain": [
              "tensor([[ 7,  8],\n",
              "        [ 9, 10]])"
            ]
          },
          "metadata": {},
          "execution_count": 7
        }
      ]
    },
    {
      "cell_type": "code",
      "source": [
        "MATRIX[1]"
      ],
      "metadata": {
        "colab": {
          "base_uri": "https://localhost:8080/"
        },
        "id": "YGHtwdfHbbIq",
        "outputId": "c5a00b10-fdc7-4385-d291-ec78048fa746"
      },
      "execution_count": 8,
      "outputs": [
        {
          "output_type": "execute_result",
          "data": {
            "text/plain": [
              "tensor([ 9, 10])"
            ]
          },
          "metadata": {},
          "execution_count": 8
        }
      ]
    },
    {
      "cell_type": "code",
      "source": [
        "MATRIX.shape"
      ],
      "metadata": {
        "colab": {
          "base_uri": "https://localhost:8080/"
        },
        "id": "tBTbyh2zbfgN",
        "outputId": "3efa2c21-2e53-49e1-edea-512c4f2c3182"
      },
      "execution_count": 9,
      "outputs": [
        {
          "output_type": "execute_result",
          "data": {
            "text/plain": [
              "torch.Size([2, 2])"
            ]
          },
          "metadata": {},
          "execution_count": 9
        }
      ]
    },
    {
      "cell_type": "code",
      "source": [
        "# TENSOR\n",
        "TENSOR = torch.tensor([[[1, 2, 3],\n",
        "                        [3, 6, 9],\n",
        "                        [2, 4, 5]]])\n",
        "\n",
        "TENSOR"
      ],
      "metadata": {
        "id": "z0eWAEZOc0Ll",
        "colab": {
          "base_uri": "https://localhost:8080/"
        },
        "outputId": "bb8e30ea-58d5-403c-d651-29a92eaa710f"
      },
      "execution_count": 10,
      "outputs": [
        {
          "output_type": "execute_result",
          "data": {
            "text/plain": [
              "tensor([[[1, 2, 3],\n",
              "         [3, 6, 9],\n",
              "         [2, 4, 5]]])"
            ]
          },
          "metadata": {},
          "execution_count": 10
        }
      ]
    },
    {
      "cell_type": "code",
      "source": [
        "TENSOR.ndim"
      ],
      "metadata": {
        "colab": {
          "base_uri": "https://localhost:8080/"
        },
        "id": "pFhbMTz8-PaC",
        "outputId": "44f86a18-7edb-4548-faae-ebbbb3b68483"
      },
      "execution_count": 11,
      "outputs": [
        {
          "output_type": "execute_result",
          "data": {
            "text/plain": [
              "3"
            ]
          },
          "metadata": {},
          "execution_count": 11
        }
      ]
    },
    {
      "cell_type": "code",
      "source": [
        "TENSOR[0]"
      ],
      "metadata": {
        "colab": {
          "base_uri": "https://localhost:8080/"
        },
        "id": "Djm2y5so-SSQ",
        "outputId": "44b501b4-498a-4d37-c57d-e399364c0efb"
      },
      "execution_count": 12,
      "outputs": [
        {
          "output_type": "execute_result",
          "data": {
            "text/plain": [
              "tensor([[1, 2, 3],\n",
              "        [3, 6, 9],\n",
              "        [2, 4, 5]])"
            ]
          },
          "metadata": {},
          "execution_count": 12
        }
      ]
    },
    {
      "cell_type": "code",
      "source": [
        "TENSOR.shape"
      ],
      "metadata": {
        "colab": {
          "base_uri": "https://localhost:8080/"
        },
        "id": "Y62Z9gB_-S1M",
        "outputId": "fdeaf928-4b07-4b34-ef6d-111c342c03c1"
      },
      "execution_count": 13,
      "outputs": [
        {
          "output_type": "execute_result",
          "data": {
            "text/plain": [
              "torch.Size([1, 3, 3])"
            ]
          },
          "metadata": {},
          "execution_count": 13
        }
      ]
    },
    {
      "cell_type": "markdown",
      "source": [
        "##Random Tensors"
      ],
      "metadata": {
        "id": "hA0bumAv2k3O"
      }
    },
    {
      "cell_type": "markdown",
      "source": [
        "###Start with random numbers -> look at data \n",
        "###-> update random numbers -> look at data \n",
        "###-> update random numbers\n",
        "\n",
        "#####Random tensors are important because the way many neural networks learn is that they start with tensors full of random numbers and then adjust those random numbers to better represent the data."
      ],
      "metadata": {
        "id": "qU_rPBqF5xU1"
      }
    },
    {
      "cell_type": "code",
      "source": [
        "# Create a random tensor of size (5, 6)\n",
        "random_tensor = torch.rand(5, 6)\n",
        "random_tensor"
      ],
      "metadata": {
        "colab": {
          "base_uri": "https://localhost:8080/"
        },
        "id": "4M_tISjY2fTZ",
        "outputId": "acb3c0d5-f3d6-4b55-afd4-a23c8dc9770d"
      },
      "execution_count": 14,
      "outputs": [
        {
          "output_type": "execute_result",
          "data": {
            "text/plain": [
              "tensor([[0.3327, 0.2543, 0.8121, 0.5512, 0.6641, 0.2419],\n",
              "        [0.1039, 0.6920, 0.7860, 0.2306, 0.3199, 0.1525],\n",
              "        [0.6248, 0.9340, 0.8043, 0.9555, 0.9077, 0.8914],\n",
              "        [0.6758, 0.8265, 0.0139, 0.5727, 0.7128, 0.9184],\n",
              "        [0.6710, 0.2924, 0.1837, 0.1730, 0.7649, 0.5252]])"
            ]
          },
          "metadata": {},
          "execution_count": 14
        }
      ]
    },
    {
      "cell_type": "code",
      "source": [
        "# Create a random tensor with similar shape to an image tensor\n",
        "random_image_size_tensor = torch.rand(size=(4, 224, 224)) # height, width, colour channels (R, G, B)\n",
        "random_image_size_tensor.shape, random_image_size_tensor.ndim"
      ],
      "metadata": {
        "colab": {
          "base_uri": "https://localhost:8080/"
        },
        "id": "yInPtCy621Wv",
        "outputId": "46ac712e-df42-4d69-e26c-2a77f1754189"
      },
      "execution_count": 15,
      "outputs": [
        {
          "output_type": "execute_result",
          "data": {
            "text/plain": [
              "(torch.Size([4, 224, 224]), 3)"
            ]
          },
          "metadata": {},
          "execution_count": 15
        }
      ]
    },
    {
      "cell_type": "markdown",
      "source": [
        "Zeores and Ones\n"
      ],
      "metadata": {
        "id": "wH1t0y5ihR2b"
      }
    },
    {
      "cell_type": "code",
      "source": [
        "# A tensor of all zeros\n",
        "zeros = torch.zeros(size=(3, 4))\n",
        "zeros"
      ],
      "metadata": {
        "id": "8Obs8j1ShKEw",
        "colab": {
          "base_uri": "https://localhost:8080/"
        },
        "outputId": "5ba0d457-b1fb-4b6d-ae81-e79046829a96"
      },
      "execution_count": 16,
      "outputs": [
        {
          "output_type": "execute_result",
          "data": {
            "text/plain": [
              "tensor([[0., 0., 0., 0.],\n",
              "        [0., 0., 0., 0.],\n",
              "        [0., 0., 0., 0.]])"
            ]
          },
          "metadata": {},
          "execution_count": 16
        }
      ]
    },
    {
      "cell_type": "code",
      "source": [
        "# A tensor of all ones\n",
        "ones = torch.ones(size=(3, 4)) \n",
        "ones"
      ],
      "metadata": {
        "colab": {
          "base_uri": "https://localhost:8080/"
        },
        "id": "wrTU_f5H60zX",
        "outputId": "16f36949-4419-40e2-b158-4b8f7fe3d8ca"
      },
      "execution_count": 17,
      "outputs": [
        {
          "output_type": "execute_result",
          "data": {
            "text/plain": [
              "tensor([[1., 1., 1., 1.],\n",
              "        [1., 1., 1., 1.],\n",
              "        [1., 1., 1., 1.]])"
            ]
          },
          "metadata": {},
          "execution_count": 17
        }
      ]
    },
    {
      "cell_type": "code",
      "source": [
        "ones.dtype"
      ],
      "metadata": {
        "colab": {
          "base_uri": "https://localhost:8080/"
        },
        "id": "eRf5Urt56mXW",
        "outputId": "6988ce3d-f407-4c91-8204-22970c9f0c03"
      },
      "execution_count": 18,
      "outputs": [
        {
          "output_type": "execute_result",
          "data": {
            "text/plain": [
              "torch.float32"
            ]
          },
          "metadata": {},
          "execution_count": 18
        }
      ]
    },
    {
      "cell_type": "code",
      "source": [
        "random_tensor.dtype"
      ],
      "metadata": {
        "colab": {
          "base_uri": "https://localhost:8080/"
        },
        "id": "gdsesnfJ6o0I",
        "outputId": "ef367813-3ec7-422d-ba54-5602c99eb605"
      },
      "execution_count": 19,
      "outputs": [
        {
          "output_type": "execute_result",
          "data": {
            "text/plain": [
              "torch.float32"
            ]
          },
          "metadata": {},
          "execution_count": 19
        }
      ]
    },
    {
      "cell_type": "markdown",
      "source": [
        "###A range of tensors and tensors-like"
      ],
      "metadata": {
        "id": "20uqiDib9o07"
      }
    },
    {
      "cell_type": "code",
      "source": [
        "# Use torch.range() and get deprecated message, use torch.arange()\n",
        "one_to_ten = torch.arange(start=1, end=11, step=1)\n",
        "one_to_ten"
      ],
      "metadata": {
        "colab": {
          "base_uri": "https://localhost:8080/"
        },
        "id": "a9MQaJOf9kja",
        "outputId": "86643d65-0577-4b36-8bb5-5f44713c35ca"
      },
      "execution_count": 20,
      "outputs": [
        {
          "output_type": "execute_result",
          "data": {
            "text/plain": [
              "tensor([ 1,  2,  3,  4,  5,  6,  7,  8,  9, 10])"
            ]
          },
          "metadata": {},
          "execution_count": 20
        }
      ]
    },
    {
      "cell_type": "code",
      "source": [
        "# Creating tensors like\n",
        "ten_zeros = torch.zeros_like(input=one_to_ten)\n",
        "ten_zeros"
      ],
      "metadata": {
        "colab": {
          "base_uri": "https://localhost:8080/"
        },
        "id": "JfVOLofk9z6N",
        "outputId": "eb12150c-3a1d-4a64-c33a-a068090f0968"
      },
      "execution_count": 21,
      "outputs": [
        {
          "output_type": "execute_result",
          "data": {
            "text/plain": [
              "tensor([0, 0, 0, 0, 0, 0, 0, 0, 0, 0])"
            ]
          },
          "metadata": {},
          "execution_count": 21
        }
      ]
    },
    {
      "cell_type": "markdown",
      "source": [
        "##Tensor datatypes\n",
        "\n",
        "\n",
        "1. Tensors not right datatype\n",
        "2. Tensors not right shape\n",
        "3. Tensors not on the right device\n",
        "\n"
      ],
      "metadata": {
        "id": "Wu8Y31Fm-Si7"
      }
    },
    {
      "cell_type": "code",
      "source": [
        "# Float 32 tensor\n",
        "float_32_tensor = torch.tensor([3.0, 6.0, 9.0],\n",
        "                               # what datatype is the tensor (e.g. float32 or float16)\n",
        "                               dtype=None, \n",
        "                               # What device is your tensor on\n",
        "                               device=None, \n",
        "                               # whether or not to track gradients with this tensors operations\n",
        "                               requires_grad=False) \n",
        "float_32_tensor"
      ],
      "metadata": {
        "colab": {
          "base_uri": "https://localhost:8080/"
        },
        "id": "Yf7JQL7Q-W13",
        "outputId": "6e4e9dd1-e297-42cf-dc21-673e20996a54"
      },
      "execution_count": 22,
      "outputs": [
        {
          "output_type": "execute_result",
          "data": {
            "text/plain": [
              "tensor([3., 6., 9.])"
            ]
          },
          "metadata": {},
          "execution_count": 22
        }
      ]
    },
    {
      "cell_type": "code",
      "source": [
        "float_32_tensor.dtype"
      ],
      "metadata": {
        "colab": {
          "base_uri": "https://localhost:8080/"
        },
        "id": "IXAluWcv-xRA",
        "outputId": "1e2e3118-338e-400c-d8f2-c673e2e98a26"
      },
      "execution_count": 23,
      "outputs": [
        {
          "output_type": "execute_result",
          "data": {
            "text/plain": [
              "torch.float32"
            ]
          },
          "metadata": {},
          "execution_count": 23
        }
      ]
    },
    {
      "cell_type": "code",
      "source": [
        "float_16_tensor = float_32_tensor.type(torch.float16)\n",
        "float_16_tensor"
      ],
      "metadata": {
        "colab": {
          "base_uri": "https://localhost:8080/"
        },
        "id": "77wI0rj3rAes",
        "outputId": "3c0199d4-65bb-4eb5-a30c-33a4f5ecf2c2"
      },
      "execution_count": 24,
      "outputs": [
        {
          "output_type": "execute_result",
          "data": {
            "text/plain": [
              "tensor([3., 6., 9.], dtype=torch.float16)"
            ]
          },
          "metadata": {},
          "execution_count": 24
        }
      ]
    },
    {
      "cell_type": "code",
      "source": [
        "float_16_tensor * float_32_tensor"
      ],
      "metadata": {
        "colab": {
          "base_uri": "https://localhost:8080/"
        },
        "id": "1Z5ln-wZcJvk",
        "outputId": "c5fb8207-4934-48ce-e4e8-fc3d04a4be6f"
      },
      "execution_count": 25,
      "outputs": [
        {
          "output_type": "execute_result",
          "data": {
            "text/plain": [
              "tensor([ 9., 36., 81.])"
            ]
          },
          "metadata": {},
          "execution_count": 25
        }
      ]
    },
    {
      "cell_type": "code",
      "source": [
        "int_32_tensor = torch.tensor([3, 6, 9], dtype=torch.long)\n",
        "int_32_tensor"
      ],
      "metadata": {
        "colab": {
          "base_uri": "https://localhost:8080/"
        },
        "id": "ekWPrpiPcL5x",
        "outputId": "d931d6b8-f449-479e-b31a-8f83e4497ff7"
      },
      "execution_count": 26,
      "outputs": [
        {
          "output_type": "execute_result",
          "data": {
            "text/plain": [
              "tensor([3, 6, 9])"
            ]
          },
          "metadata": {},
          "execution_count": 26
        }
      ]
    },
    {
      "cell_type": "code",
      "source": [
        "float_32_tensor * int_32_tensor"
      ],
      "metadata": {
        "colab": {
          "base_uri": "https://localhost:8080/"
        },
        "id": "06VDCvMMcOi0",
        "outputId": "17a3113a-91ac-40a0-a8bb-5173df2e6a39"
      },
      "execution_count": 27,
      "outputs": [
        {
          "output_type": "execute_result",
          "data": {
            "text/plain": [
              "tensor([ 9., 36., 81.])"
            ]
          },
          "metadata": {},
          "execution_count": 27
        }
      ]
    },
    {
      "cell_type": "markdown",
      "source": [
        "###Tensor attributes\n",
        "\n",
        "> Tensors not right datatype \n",
        "- to do get datatype from a tensor, can use tensor.dtype\n",
        "\n",
        "> Tensors not right shape \n",
        "- to get shape from a tensor, can use tensor.shape\n",
        "\n",
        "> Tensors not on the right device \n",
        "- to get device from a tensor, can use tensor.device\n",
        "\n",
        "\n",
        "\n",
        "\n"
      ],
      "metadata": {
        "id": "2qGnf9wo3_t9"
      }
    },
    {
      "cell_type": "code",
      "source": [
        "#Create a tensor\n",
        "some_tensor = torch.rand(3, 4)\n",
        "some_tensor"
      ],
      "metadata": {
        "colab": {
          "base_uri": "https://localhost:8080/"
        },
        "id": "GvuUNVu237ve",
        "outputId": "79628f60-521c-4e49-dd37-931e94108f13"
      },
      "execution_count": 28,
      "outputs": [
        {
          "output_type": "execute_result",
          "data": {
            "text/plain": [
              "tensor([[0.3514, 0.8194, 0.2648, 0.7713],\n",
              "        [0.0266, 0.8353, 0.3811, 0.7840],\n",
              "        [0.4679, 0.3890, 0.6890, 0.3994]])"
            ]
          },
          "metadata": {},
          "execution_count": 28
        }
      ]
    },
    {
      "cell_type": "code",
      "source": [
        "# Find out details about some tensor\n",
        "print(some_tensor)\n",
        "print(f\"Datatype of tensor: {some_tensor.dtype}\")\n",
        "print(f\"Shape of tensor: {some_tensor.shape}\")\n",
        "print(f\"Device tensor is on: {some_tensor.device}\")"
      ],
      "metadata": {
        "colab": {
          "base_uri": "https://localhost:8080/"
        },
        "id": "JzTj0RSn4bZn",
        "outputId": "dabea0d0-af2a-4a9f-e8b9-293ee9e96d36"
      },
      "execution_count": 29,
      "outputs": [
        {
          "output_type": "stream",
          "name": "stdout",
          "text": [
            "tensor([[0.3514, 0.8194, 0.2648, 0.7713],\n",
            "        [0.0266, 0.8353, 0.3811, 0.7840],\n",
            "        [0.4679, 0.3890, 0.6890, 0.3994]])\n",
            "Datatype of tensor: torch.float32\n",
            "Shape of tensor: torch.Size([3, 4])\n",
            "Device tensor is on: cpu\n"
          ]
        }
      ]
    },
    {
      "cell_type": "markdown",
      "source": [
        "###Tensor operations\n",
        "Tensor opertions include:\n",
        "\n",
        "Addition\n",
        "\n",
        "Subtraction \n",
        "\n",
        "Multiplication (element-wise)\n",
        "\n",
        "Division\n",
        "\n",
        "Matrix multiplication"
      ],
      "metadata": {
        "id": "-g7fBPvuR5wl"
      }
    },
    {
      "cell_type": "code",
      "source": [
        "# Create a tensor and add 10 to it\n",
        "tensor = torch.tensor([1, 2, 3])\n",
        "tensor + 20"
      ],
      "metadata": {
        "colab": {
          "base_uri": "https://localhost:8080/"
        },
        "id": "rIkJ9gCTR5gN",
        "outputId": "8f3f859b-eafe-4c87-b9a4-56f00eb272fa"
      },
      "execution_count": 30,
      "outputs": [
        {
          "output_type": "execute_result",
          "data": {
            "text/plain": [
              "tensor([21, 22, 23])"
            ]
          },
          "metadata": {},
          "execution_count": 30
        }
      ]
    },
    {
      "cell_type": "code",
      "source": [
        "# Multiply tensor by 10\n",
        "tensor * 15"
      ],
      "metadata": {
        "colab": {
          "base_uri": "https://localhost:8080/"
        },
        "id": "7irgcN3kSlEC",
        "outputId": "8d0080e4-7580-4f25-f9a6-8f413784e941"
      },
      "execution_count": 31,
      "outputs": [
        {
          "output_type": "execute_result",
          "data": {
            "text/plain": [
              "tensor([15, 30, 45])"
            ]
          },
          "metadata": {},
          "execution_count": 31
        }
      ]
    },
    {
      "cell_type": "code",
      "source": [
        "# Substract 10\n",
        "tensor - 45"
      ],
      "metadata": {
        "colab": {
          "base_uri": "https://localhost:8080/"
        },
        "id": "1sxcQE1fSsok",
        "outputId": "2650e7d1-38bf-4846-92b2-8d355a56b8ea"
      },
      "execution_count": 32,
      "outputs": [
        {
          "output_type": "execute_result",
          "data": {
            "text/plain": [
              "tensor([-44, -43, -42])"
            ]
          },
          "metadata": {},
          "execution_count": 32
        }
      ]
    },
    {
      "cell_type": "code",
      "source": [
        "#  PyTorch in-built functions to multiply \n",
        "torch.mul(tensor, 15)"
      ],
      "metadata": {
        "colab": {
          "base_uri": "https://localhost:8080/"
        },
        "id": "-sVolifzSvuc",
        "outputId": "d9de32fe-5461-4c7e-e35a-d50272ecebc9"
      },
      "execution_count": 33,
      "outputs": [
        {
          "output_type": "execute_result",
          "data": {
            "text/plain": [
              "tensor([15, 30, 45])"
            ]
          },
          "metadata": {},
          "execution_count": 33
        }
      ]
    },
    {
      "cell_type": "code",
      "source": [
        "#  PyTorch in-built functions to add\n",
        "torch.add(tensor, 20)"
      ],
      "metadata": {
        "colab": {
          "base_uri": "https://localhost:8080/"
        },
        "id": "hWh_xllnUlJy",
        "outputId": "4a932fe1-82a8-4219-e377-e557a6e9bff5"
      },
      "execution_count": 34,
      "outputs": [
        {
          "output_type": "execute_result",
          "data": {
            "text/plain": [
              "tensor([21, 22, 23])"
            ]
          },
          "metadata": {},
          "execution_count": 34
        }
      ]
    },
    {
      "cell_type": "code",
      "source": [
        "# divide \n",
        "t1= torch.tensor([4, 16, 32])\n",
        "torch.div(t1, 4)\n",
        "\n",
        "###another way to perform division \n",
        "\n",
        "##1\n",
        "#t= torch.tensor([4, 4, 4])\n",
        "#torch.div(t1, t)\n",
        "\n",
        "##2\n",
        "#t= torch.tensor([4])\n",
        "#torch.div(t1, t)"
      ],
      "metadata": {
        "colab": {
          "base_uri": "https://localhost:8080/"
        },
        "id": "Km1VUD2RSv2l",
        "outputId": "5a34cadd-b9bd-4077-9dcd-09b8355383d8"
      },
      "execution_count": 35,
      "outputs": [
        {
          "output_type": "execute_result",
          "data": {
            "text/plain": [
              "tensor([1., 4., 8.])"
            ]
          },
          "metadata": {},
          "execution_count": 35
        }
      ]
    },
    {
      "cell_type": "markdown",
      "source": [
        "###Matrix multiplication"
      ],
      "metadata": {
        "id": "_TEUNwAmKJG0"
      }
    },
    {
      "cell_type": "code",
      "source": [
        "# Element wise multiplication\n",
        "print(tensor, \"*\", tensor)\n",
        "print(f\"Equals: {tensor * tensor}\")"
      ],
      "metadata": {
        "colab": {
          "base_uri": "https://localhost:8080/"
        },
        "id": "GDBzyxUmKKh2",
        "outputId": "c701a3be-a0e5-49f6-85a0-c586ec1c1375"
      },
      "execution_count": 36,
      "outputs": [
        {
          "output_type": "stream",
          "name": "stdout",
          "text": [
            "tensor([1, 2, 3]) * tensor([1, 2, 3])\n",
            "Equals: tensor([1, 4, 9])\n"
          ]
        }
      ]
    },
    {
      "cell_type": "code",
      "source": [
        "# Matrix multiplication\n",
        "torch.matmul(tensor, tensor)"
      ],
      "metadata": {
        "colab": {
          "base_uri": "https://localhost:8080/"
        },
        "id": "fP932YvVKQzx",
        "outputId": "b7a67c3d-01ab-4e1f-9ee8-81c8f7e53ed1"
      },
      "execution_count": 37,
      "outputs": [
        {
          "output_type": "execute_result",
          "data": {
            "text/plain": [
              "tensor(14)"
            ]
          },
          "metadata": {},
          "execution_count": 37
        }
      ]
    },
    {
      "cell_type": "code",
      "source": [
        "tensor"
      ],
      "metadata": {
        "colab": {
          "base_uri": "https://localhost:8080/"
        },
        "id": "e1tlAACiKQ9Q",
        "outputId": "9e3099e5-45de-4a1a-c773-e2e4419dbcef"
      },
      "execution_count": 38,
      "outputs": [
        {
          "output_type": "execute_result",
          "data": {
            "text/plain": [
              "tensor([1, 2, 3])"
            ]
          },
          "metadata": {},
          "execution_count": 38
        }
      ]
    },
    {
      "cell_type": "code",
      "source": [
        "# Matrix multiplication by hand\n",
        "1*1 + 2*2 + 3*3"
      ],
      "metadata": {
        "colab": {
          "base_uri": "https://localhost:8080/"
        },
        "id": "FuOll2H-KV6k",
        "outputId": "e60b564f-2512-4296-a220-704d4ca50dff"
      },
      "execution_count": 39,
      "outputs": [
        {
          "output_type": "execute_result",
          "data": {
            "text/plain": [
              "14"
            ]
          },
          "metadata": {},
          "execution_count": 39
        }
      ]
    }
  ]
}