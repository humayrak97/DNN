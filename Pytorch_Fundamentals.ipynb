{
  "nbformat": 4,
  "nbformat_minor": 0,
  "metadata": {
    "colab": {
      "provenance": [],
      "collapsed_sections": []
    },
    "kernelspec": {
      "name": "python3",
      "display_name": "Python 3"
    },
    "language_info": {
      "name": "python"
    }
  },
  "cells": [
    {
      "cell_type": "markdown",
      "source": [
        "##Importing libraries"
      ],
      "metadata": {
        "id": "p9kBLITyATUa"
      }
    },
    {
      "cell_type": "code",
      "execution_count": 1,
      "metadata": {
        "id": "Q0tCxc0UAQfS",
        "colab": {
          "base_uri": "https://localhost:8080/"
        },
        "outputId": "067f7d5b-fa11-4231-a9b6-b6204cf4f0dc"
      },
      "outputs": [
        {
          "output_type": "stream",
          "name": "stdout",
          "text": [
            "1.12.1+cu113\n"
          ]
        }
      ],
      "source": [
        "import torch\n",
        "import pandas as pd\n",
        "import numpy as np\n",
        "import matplotlib.pyplot as plt\n",
        "print(torch.__version__)"
      ]
    },
    {
      "cell_type": "markdown",
      "source": [
        "###Creating tensors"
      ],
      "metadata": {
        "id": "Q5dJNMYTT7CN"
      }
    },
    {
      "cell_type": "code",
      "source": [
        "#Pytorch tensors are created using torch.Tensor()\n",
        "scalar = torch.tensor(7)\n",
        "scalar\n",
        "#scalar.ndim"
      ],
      "metadata": {
        "colab": {
          "base_uri": "https://localhost:8080/"
        },
        "id": "m3qg0BZDTO-y",
        "outputId": "8edfa765-5b9c-4cdc-bddb-c512988a4d62"
      },
      "execution_count": 2,
      "outputs": [
        {
          "output_type": "execute_result",
          "data": {
            "text/plain": [
              "0"
            ]
          },
          "metadata": {},
          "execution_count": 2
        }
      ]
    },
    {
      "cell_type": "code",
      "source": [
        "#Getting tensor back as Puthon int \n",
        "scalar.item()"
      ],
      "metadata": {
        "colab": {
          "base_uri": "https://localhost:8080/"
        },
        "id": "tGYs0xHeTo-E",
        "outputId": "3fe0e2d6-ff02-41a5-aaa1-8368b2239147"
      },
      "execution_count": 3,
      "outputs": [
        {
          "output_type": "execute_result",
          "data": {
            "text/plain": [
              "7"
            ]
          },
          "metadata": {},
          "execution_count": 3
        }
      ]
    }
  ]
}